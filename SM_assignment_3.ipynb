{
  "nbformat": 4,
  "nbformat_minor": 0,
  "metadata": {
    "colab": {
      "provenance": [],
      "authorship_tag": "ABX9TyMkxpuTJ9EDpN1GpHbqQ4uu",
      "include_colab_link": true
    },
    "kernelspec": {
      "name": "python3",
      "display_name": "Python 3"
    },
    "language_info": {
      "name": "python"
    }
  },
  "cells": [
    {
      "cell_type": "markdown",
      "metadata": {
        "id": "view-in-github",
        "colab_type": "text"
      },
      "source": [
        "<a href=\"https://colab.research.google.com/github/Sadia7766/Assignment/blob/main/SM_assignment_3.ipynb\" target=\"_parent\"><img src=\"https://colab.research.google.com/assets/colab-badge.svg\" alt=\"Open In Colab\"/></a>"
      ]
    },
    {
      "cell_type": "markdown",
      "source": [
        "ID: 2215151033"
      ],
      "metadata": {
        "id": "Xofvjk5WjGBi"
      }
    },
    {
      "cell_type": "markdown",
      "source": [
        "**Question:**\n",
        "\n",
        "• Data: [5.2, 5.4, 5.1, 5.6, 5.3, 5.8]\n",
        "\n",
        "• Hypothesized mean: 5.5\n",
        "\n",
        "• Tasks:\n",
        "\n",
        "o Calculate the t-statistic and p-value.\n",
        "\n",
        "o Interpret and visualize the result at a 0.05 significance level"
      ],
      "metadata": {
        "id": "2cFo_W4TjNKL"
      }
    },
    {
      "cell_type": "code",
      "source": [
        "import numpy as np\n",
        "import scipy.stats as stats #new library\n",
        "import matplotlib.pyplot as plt"
      ],
      "metadata": {
        "id": "BiHnyhBBjPd8"
      },
      "execution_count": 1,
      "outputs": []
    },
    {
      "cell_type": "code",
      "source": [
        "#Calculate the t-statistic and p-value.\n",
        "\n",
        "data = np.array([5.2, 5.4, 5.1, 5.6, 5.3, 5.8])\n",
        "\n",
        "population_mean = 5.5\n",
        "\n",
        "t_statistic, p_value = stats.ttest_1samp(data, population_mean)\n",
        "#$ci = stats.t.interval(0.95, df=len(data)-1, loc=np.mean(data), scale=stats.sem(data))\n",
        "\n",
        "#print the results\n",
        "print(f'Sample Mean: {np.mean(data):.2f}')\n",
        "print(f'Hypothesized Population Mean: {population_mean:.2f}')\n",
        "print(f't-Statistic: {t_statistic:.2f}')\n",
        "print(f'Degrees of Freedom: {len(data) - 1}')\n",
        "print(f'p-Value: {p_value:.4f}')\n"
      ],
      "metadata": {
        "colab": {
          "base_uri": "https://localhost:8080/"
        },
        "id": "EWCG_iMZklwT",
        "outputId": "deae59f6-b5e7-4c90-cd18-c26fbdb8df5e"
      },
      "execution_count": 17,
      "outputs": [
        {
          "output_type": "stream",
          "name": "stdout",
          "text": [
            "Sample Mean: 5.40\n",
            "Hypothesized Population Mean: 5.50\n",
            "t-Statistic: -0.94\n",
            "Degrees of Freedom: 5\n",
            "p-Value: 0.3907\n"
          ]
        }
      ]
    },
    {
      "cell_type": "code",
      "source": [
        "#Interpretation\n",
        "alpha = 0.05\n",
        "if p_value < alpha:\n",
        "    print(f'Reject the null hypothesis: there is significant evidence that the mean is different from 5.5.')\n",
        "else:\n",
        "    print(f'Fail to reject the null hypothesis: there is not enough evidence to say the mean is different from 5.5.')"
      ],
      "metadata": {
        "colab": {
          "base_uri": "https://localhost:8080/"
        },
        "id": "X-_88wIFl-nW",
        "outputId": "8d0a1b25-9b89-4f89-c5cf-549aa2a9fc36"
      },
      "execution_count": 7,
      "outputs": [
        {
          "output_type": "stream",
          "name": "stdout",
          "text": [
            "Fail to reject the null hypothesis: there is not enough evidence to say the mean is different from 5.5.\n"
          ]
        }
      ]
    },
    {
      "cell_type": "code",
      "source": [
        "#Visualization\n",
        "\n",
        "plt.figure()\n",
        "plt.bar(1, np.mean(data), color=\"lightgreen\", label='Sample Mean')\n",
        "plt.errorbar(1, np.mean(data), yerr=np.std(data, ddof=1), fmt='o', color='darkgreen', linewidth=2)\n",
        "plt.axhline(y=population_mean, color='orange', linestyle='--', linewidth=2, label='Hypothesized Mean (5.5)')\n",
        "plt.title('Sample Mean vs Hypothesized Mean')\n",
        "plt.xlim(0.5, 1.5)\n",
        "plt.xlabel('Sample')\n",
        "plt.ylabel('Mean Value')\n",
        "plt.legend()\n",
        "plt.grid(True)\n",
        "plt.show()\n",
        "\n"
      ],
      "metadata": {
        "colab": {
          "base_uri": "https://localhost:8080/",
          "height": 472
        },
        "id": "yNdYXWtkm6gL",
        "outputId": "30a80eed-514d-4e2f-c503-94aa254a0c96"
      },
      "execution_count": 16,
      "outputs": [
        {
          "output_type": "display_data",
          "data": {
            "text/plain": [
              "<Figure size 640x480 with 1 Axes>"
            ],
            "image/png": "[encoded data removed]"
          },
          "metadata": {}
        }
      ]
    }
  ]
}