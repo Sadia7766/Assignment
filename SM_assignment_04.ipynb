{
  "nbformat": 4,
  "nbformat_minor": 0,
  "metadata": {
    "colab": {
      "provenance": [],
      "authorship_tag": "ABX9TyN/FJxZnnb2KPzQDiGM1omZ",
      "include_colab_link": true
    },
    "kernelspec": {
      "name": "python3",
      "display_name": "Python 3"
    },
    "language_info": {
      "name": "python"
    }
  },
  "cells": [
    {
      "cell_type": "markdown",
      "metadata": {
        "id": "view-in-github",
        "colab_type": "text"
      },
      "source": [
        "<a href=\"https://colab.research.google.com/github/Sadia7766/Assignment/blob/main/SM_assignment_04.ipynb\" target=\"_parent\"><img src=\"https://colab.research.google.com/assets/colab-badge.svg\" alt=\"Open In Colab\"/></a>"
      ]
    },
    {
      "cell_type": "markdown",
      "source": [
        "ID: 2215151033"
      ],
      "metadata": {
        "id": "i31dRaQ-NiER"
      }
    },
    {
      "cell_type": "markdown",
      "source": [
        "**Question:**\n",
        "\n",
        "Generate two sets of from a normal distribution and perform a two-sample t-test.\n",
        "\n",
        "1.Randomly generate 50 values from a normal distribution with a chosen mean (μ1) and standard deviation.\n",
        "\n",
        "2.Randomly generate 50 values from a normal distribution with a different mean (μ2) and standard deviation."
      ],
      "metadata": {
        "id": "9FoxngkxNo3R"
      }
    },
    {
      "cell_type": "code",
      "source": [
        "import numpy as np\n",
        "import scipy.stats as stats\n",
        "import matplotlib.pyplot as plt"
      ],
      "metadata": {
        "id": "eQW_8SGwWUTR"
      },
      "execution_count": 1,
      "outputs": []
    },
    {
      "cell_type": "code",
      "source": [
        "#Randomly generate 50 values from a normal distribution with a chosen mean (μ1) and standard deviation.\n",
        "#Randomly generate 50 values from a normal distribution with a different mean (μ2) and standard deviation.\n",
        "\n",
        "np.random.seed(40)\n",
        "\n",
        "mu1, sigma1 = 10, 7\n",
        "mu2, sigma2 = 15, 4\n",
        "\n",
        "set1 = np.random.normal(mu1, sigma1, 50)\n",
        "set2 = np.random.normal(mu2, sigma2, 50)\n",
        "\n",
        "t_statistic, p_value = stats.ttest_ind(set1, set2)\n",
        "\n",
        "mean_diff = np.mean(set1) - np.mean(set2)\n",
        "std_err = np.sqrt(np.var(set1, ddof=1)/len(set1) + np.var(set2, ddof=1)/len(set2))\n",
        "df = (std_err**4) / ((np.var(set1, ddof=1)/len(set1))**2 / (len(set1)-1) + (np.var(set2, ddof=1)/len(set2))**2 / (len(set2)-1))\n",
        "ci = stats.t.interval(0.95, df, loc=mean_diff, scale=std_err)\n",
        "\n",
        "# Output the results\n",
        "print(f\"Sample 1 Mean: {np.mean(set1):.2f}\")\n",
        "print(f\"Sample 2 Mean: {np.mean(set2):.2f}\")\n",
        "print(f\"t-Statistic: {t_statistic:.2f}\")\n",
        "print(f\"Degrees of Freedom: {df:.2f}\")\n",
        "print(f\"p-Value: {p_value:.4f}\")\n",
        "print(f\"Confidence Interval of Mean Difference: [{ci[0]:.2f}, {ci[1]:.2f}]\")"
      ],
      "metadata": {
        "colab": {
          "base_uri": "https://localhost:8080/"
        },
        "id": "uQc59rqTWy0V",
        "outputId": "bcaae77d-815c-4344-b5ff-d7c554041b8a"
      },
      "execution_count": 15,
      "outputs": [
        {
          "output_type": "stream",
          "name": "stdout",
          "text": [
            "Sample 1 Mean: 10.55\n",
            "Sample 2 Mean: 14.50\n",
            "t-Statistic: -3.80\n",
            "Degrees of Freedom: 90.44\n",
            "p-Value: 0.0002\n",
            "Confidence Interval of Mean Difference: [-6.02, -1.89]\n"
          ]
        }
      ]
    },
    {
      "cell_type": "code",
      "source": [
        "# Interpret the results\n",
        "alpha = 0.05\n",
        "if p_value < alpha:\n",
        "    print(\"Reject the null hypothesis. The means of the two sets are significantly different.\")\n",
        "else:\n",
        "    print(\"Fail to reject the null hypothesis. The means of the two sets are not significantly different.\")"
      ],
      "metadata": {
        "colab": {
          "base_uri": "https://localhost:8080/"
        },
        "id": "IzEpkROCYD5s",
        "outputId": "cee6fc58-1e0e-4a50-e265-20cf2eaaef32"
      },
      "execution_count": 16,
      "outputs": [
        {
          "output_type": "stream",
          "name": "stdout",
          "text": [
            "Reject the null hypothesis. The means of the two sets are significantly different.\n"
          ]
        }
      ]
    },
    {
      "cell_type": "code",
      "source": [
        "#Visualize the results\n",
        "plt.figure(figsize=(7, 4))\n",
        "plt.bar(['Sample 1', 'Sample 2'], [np.mean(set1), np.mean(set2)], color=['lightgreen', 'olive'], alpha=0.8)\n",
        "plt.errorbar(['Sample 1', 'Sample 2'], [np.mean(set1), np.mean(set2)], yerr=[np.std(set1, ddof=1), np.std(set2, ddof=1)], fmt='^',color='purple', elinewidth=2,capsize=10)\n",
        "plt.title('Comparison of Sample Means')\n",
        "plt.xlabel('Samples')\n",
        "plt.ylabel('Mean Value')\n",
        "plt.grid(True)\n",
        "plt.show()"
      ],
      "metadata": {
        "colab": {
          "base_uri": "https://localhost:8080/",
          "height": 410
        },
        "id": "3rqd53YnXKfS",
        "outputId": "70912b13-c4c0-452a-a066-89dcea9f648f"
      },
      "execution_count": 37,
      "outputs": [
        {
          "output_type": "display_data",
          "data": {
            "text/plain": [
              "<Figure size 700x400 with 1 Axes>"
            ],
            "image/png": "[encoded data removed]"
          },
          "metadata": {}
        }
      ]
    }
  ]
}