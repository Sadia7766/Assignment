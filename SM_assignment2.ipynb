{
  "nbformat": 4,
  "nbformat_minor": 0,
  "metadata": {
    "colab": {
      "provenance": [],
      "authorship_tag": "ABX9TyNGRSK9tdltjqy4rsphpCL6",
      "include_colab_link": true
    },
    "kernelspec": {
      "name": "python3",
      "display_name": "Python 3"
    },
    "language_info": {
      "name": "python"
    }
  },
  "cells": [
    {
      "cell_type": "markdown",
      "metadata": {
        "id": "view-in-github",
        "colab_type": "text"
      },
      "source": [
        "<a href=\"https://colab.research.google.com/github/Sadia7766/Assignment/blob/main/SM_assignment2.ipynb\" target=\"_parent\"><img src=\"https://colab.research.google.com/assets/colab-badge.svg\" alt=\"Open In Colab\"/></a>"
      ]
    },
    {
      "cell_type": "markdown",
      "source": [
        "Sadia Akter (2215151033)_7A2"
      ],
      "metadata": {
        "id": "fLqOxuum1hSo"
      }
    },
    {
      "cell_type": "markdown",
      "source": [
        "Tasks:\n",
        "\n",
        "Use numpy to create a 3×3 matrix of random integers between 1 and 50.  \n",
        "   Run the code twice\n",
        "  With a fixed seed (`np.random.seed(10)`) to ensure reproducibility.  \n",
        "  Without setting a seed, allowing random values to change each time.  \n",
        "  Observe and explain the differences in outputs.  (in a different cell as text)"
      ],
      "metadata": {
        "id": "e3rBxX9vbQnC"
      }
    },
    {
      "cell_type": "code",
      "source": [
        "import numpy as np"
      ],
      "metadata": {
        "id": "jRUc-oVG1mHk"
      },
      "execution_count": null,
      "outputs": []
    },
    {
      "cell_type": "code",
      "source": [
        "np.random.seed(10)\n",
        "seeded_matrix = np.random.randint(1, 51, (3, 3))\n",
        "print(\"Seeded Random Matrix:\\n\", seeded_matrix)"
      ],
      "metadata": {
        "colab": {
          "base_uri": "https://localhost:8080/"
        },
        "id": "PnlGHmhI233v",
        "outputId": "e34e2549-99b2-4a25-e3c7-9446a05f358c"
      },
      "execution_count": null,
      "outputs": [
        {
          "output_type": "stream",
          "name": "stdout",
          "text": [
            "Seeded Random Matrix:\n",
            " [[10 37 16]\n",
            " [ 1 50 29]\n",
            " [26 30 49]]\n"
          ]
        }
      ]
    },
    {
      "cell_type": "code",
      "source": [
        "np.random.seed(None)\n",
        "non_seeded_matrix = np.random.randint(1, 51, (3, 3))\n",
        "print(\"\\nNon-Seeded Random Matrix:\\n\", non_seeded_matrix)"
      ],
      "metadata": {
        "colab": {
          "base_uri": "https://localhost:8080/"
        },
        "id": "CvdWouh93MU8",
        "outputId": "e0812c11-f971-40a6-895d-01293ed0a43c"
      },
      "execution_count": null,
      "outputs": [
        {
          "output_type": "stream",
          "name": "stdout",
          "text": [
            "\n",
            "Non-Seeded Random Matrix:\n",
            " [[49 48 19]\n",
            " [16 46 49]\n",
            " [42  8 28]]\n"
          ]
        }
      ]
    },
    {
      "cell_type": "markdown",
      "source": [
        "When np.random.seed() is used with a specific number (e.g., 10), it establishes the random number generator with a specific starting point.This means the seed will be the same every time the code is run with the same seed value.\n",
        "\n",
        "On the other hand, if you don't set a seed, the random number generator produces different numbers each time I run the code. This means that the matrix will change every time with different random integers."
      ],
      "metadata": {
        "id": "Jqr7TKwS50l0"
      }
    }
  ]
}